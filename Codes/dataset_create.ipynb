{
 "cells": [
  {
   "cell_type": "code",
   "execution_count": 2,
   "metadata": {},
   "outputs": [],
   "source": [
    "!pip install -q --upgrade pip"
   ]
  },
  {
   "cell_type": "code",
   "execution_count": null,
   "metadata": {},
   "outputs": [
    {
     "name": "stderr",
     "output_type": "stream",
     "text": [
      "/var/folders/25/j1q5xccn129_9ll903bsp_k40000gn/T/ipykernel_7069/1876177216.py:29: DtypeWarning: Columns (6,7) have mixed types. Specify dtype option on import or set low_memory=False.\n",
      "  df = pd.read_csv(path, usecols=['content', 'summary'])\n"
     ]
    },
    {
     "name": "stdout",
     "output_type": "stream",
     "text": [
      "Sampled 154183 rows from JSONL file.\n",
      "Loaded 13554 CSV file.\n"
     ]
    }
   ],
   "source": [
    "import json\n",
    "import csv\n",
    "import random\n",
    "import pandas as pd\n",
    "\n",
    "json_input_path = 'corpus-webis-tldr-17.json'\n",
    "path = 'combined_subreddits.csv'\n",
    "train_output_path = 'train_set2.csv'\n",
    "val_output_path = 'val_set2.csv'\n",
    "\n",
    "sample_ratio = 0.04\n",
    "sampled_rows = []\n",
    "\n",
    "with open(json_input_path, 'r', encoding='utf-8') as infile:\n",
    "    for line in infile:\n",
    "        if random.random() < sample_ratio:\n",
    "            try:\n",
    "                obj = json.loads(line)\n",
    "                sampled_rows.append({\n",
    "                    'content': obj.get('content', ''),\n",
    "                    'summary': obj.get('summary', '')\n",
    "                })\n",
    "            except json.JSONDecodeError:\n",
    "                continue\n",
    "\n",
    "\n",
    "df = pd.read_csv(path, usecols=['content', 'summary'])\n",
    "\n",
    "df = df.sample(frac=0.1, random_state=42)\n",
    "\n",
    "sampled_df = pd.DataFrame(sampled_rows)\n",
    "\n",
    "print(f\"Sampled {len(sampled_df)} rows from JSONL file.\")\n",
    "print(f\"Loaded {len(df)} CSV file.\")\n",
    "\n",
    "combined_df = pd.concat([sampled_df] +[df], ignore_index=True)\n",
    "\n",
    "combined_df = combined_df.sample(frac=1, random_state=42).reset_index(drop=True)\n",
    "\n",
    "combined_df.dropna(subset=['content', 'summary'], inplace=True)\n",
    "\n",
    "train_frac = 0.9\n",
    "split_index = int(len(combined_df) * train_frac)\n",
    "train_df = combined_df[:split_index]\n",
    "val_df = combined_df[split_index:]\n",
    "\n",
    "train_df.to_csv(train_output_path, index=False)\n",
    "val_df.to_csv(val_output_path, index=False)\n"
   ]
  },
  {
   "cell_type": "code",
   "execution_count": 16,
   "metadata": {},
   "outputs": [
    {
     "name": "stdout",
     "output_type": "stream",
     "text": [
      "                                             content  \\\n",
      "0  I have PCOS and had been on bc for years, so I...   \n",
      "1  Unsolicited, I know, but I wanted to add my tw...   \n",
      "2  Ok I just bought a Marlin 795 LR as my first r...   \n",
      "3  Hi, I'd like to put my 2 cents in tho I'm not ...   \n",
      "4  Such as this, you mean? \\n >There shouldn't be...   \n",
      "\n",
      "                                             summary  \n",
      "0  I'm 6 weeks pregnant, cant keep my eyes open a...  \n",
      "1  My main issue is how voice chat exclusion is b...  \n",
      "2                                      Get the Ruger  \n",
      "3  determine whither can dive or not and learn to...  \n",
      "4  Should there be gender differences in the cost...  \n",
      "                                                  content  \\\n",
      "150964  Hi all, \\n My WJ is 12 years old, and it has s...   \n",
      "150965  I was in the pit for a musical in high school....   \n",
      "150967  Man GET OUT! \\nI took a job with a small minor...   \n",
      "150968  I HAVE A CHART FOR THAT!]( \\n Though the climb...   \n",
      "150969  This actually happened today! (shit no it didn...   \n",
      "\n",
      "                                                  summary  \n",
      "150964  Need a gas tank skid plate. Should I shell out...  \n",
      "150965                       Invisible boxes are assholes  \n",
      "150967  There are way better jobs out there with bette...  \n",
      "150968  That slope is recent and a very small blip on ...  \n",
      "150969  Tied my board shorts up too tight and pissed m...  \n"
     ]
    }
   ],
   "source": [
    "print(train_df.head())\n",
    "print(val_df.head())"
   ]
  }
 ],
 "metadata": {
  "kernelspec": {
   "display_name": "base",
   "language": "python",
   "name": "python3"
  },
  "language_info": {
   "codemirror_mode": {
    "name": "ipython",
    "version": 3
   },
   "file_extension": ".py",
   "mimetype": "text/x-python",
   "name": "python",
   "nbconvert_exporter": "python",
   "pygments_lexer": "ipython3",
   "version": "3.11.5"
  }
 },
 "nbformat": 4,
 "nbformat_minor": 2
}
